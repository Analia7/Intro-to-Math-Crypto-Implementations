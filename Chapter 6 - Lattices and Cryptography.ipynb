{
 "cells": [
  {
   "cell_type": "markdown",
   "metadata": {},
   "source": [
    "# Chapter 6 - Lattices and Cryptography"
   ]
  },
  {
   "cell_type": "markdown",
   "metadata": {},
   "source": [
    "Lattice Based Cryptography provides a public key cryptosystem that has \"quantum resistance\" (ie there is no quantum algorithm to solve it quickly) as well as faster encrytion and decryption.\n",
    "\n",
    "This project aims to explore the LLL and BKZ algorithms used in Lattice Based Cryptography using SAGE."
   ]
  },
  {
   "cell_type": "markdown",
   "metadata": {},
   "source": [
    "## 6.1 - A congruential public key cryptosystem"
   ]
  },
  {
   "cell_type": "code",
   "execution_count": 77,
   "metadata": {},
   "outputs": [],
   "source": [
    "# imports\n",
    "import random\n",
    "import time"
   ]
  },
  {
   "cell_type": "markdown",
   "metadata": {},
   "source": [
    "### Key creation"
   ]
  },
  {
   "cell_type": "code",
   "execution_count": 78,
   "metadata": {},
   "outputs": [],
   "source": [
    "def congruential_key_creation(bits):\n",
    "    \"\"\"\n",
    "    Chooses pseudorandom integers q, f, g.\n",
    "    \n",
    "    Computes public key (q, h)\n",
    "    \n",
    "    Returns private and public keys: [(f, g), (q, h)]\n",
    "    \n",
    "    NOTE: needs a number of bits that is not too small\n",
    "    for example 10 is enough (if smaller it might get stuck).\n",
    "    Since encryption usually requires 128 to 256 bits of security,\n",
    "    it would not be feasible to use less than 10 bits as this is insecure.\n",
    "    \n",
    "    BITS must be large for the encryption function not to get stuck.\n",
    "    \"\"\"\n",
    "    # choosing a large positive integer q\n",
    "    q = random.getrandbits(bits)   # gives an integers with \"bits\" random bits\n",
    "    \n",
    "    FieldQ = Zmod(q)\n",
    "\n",
    "\n",
    "    # choosing the other 2 secret positive integers\n",
    "    a, b, c = 0, sqrt(q/4), sqrt(q/2)   # \n",
    "    \n",
    "    while True:\n",
    "        f = random.randint(a, floor(c))          # the function only takes integers as inputs so must round (down)\n",
    "        g = random.randint(floor(b), floor(c))   # the values of b and c (down because we want a strict inequality\n",
    "                                                 # and randint has a weak one)\n",
    "        if gcd(f, g) == 1:\n",
    "            try:\n",
    "                f = FieldQ(f)\n",
    "                g = FieldQ(g)\n",
    "                f_inverse = f^(-1)\n",
    "                break\n",
    "            except ZeroDivisionError:\n",
    "                continue\n",
    "    \n",
    "    # compute h\n",
    "    h = mod((f_inverse*g),q)\n",
    "    \n",
    "    return [(f, g), (FieldQ, q, h)]"
   ]
  },
  {
   "cell_type": "markdown",
   "metadata": {},
   "source": [
    "### Encryption"
   ]
  },
  {
   "cell_type": "code",
   "execution_count": 79,
   "metadata": {},
   "outputs": [],
   "source": [
    "def congruential_encryption(public_key_tuple, message):\n",
    "    \"\"\"\n",
    "    Encrypts the message using the public key\n",
    "    \n",
    "    NOTE: only works for string with at most 12 characters - otherwise it will get stuck.\n",
    "    \"\"\"\n",
    "    FieldQ, q, h = public_key_tuple\n",
    "    \n",
    "    # translate from string to integer using a base\n",
    "    a, b, c = 0, sqrt(q/4), sqrt(q/2)\n",
    "    \n",
    "    while True:\n",
    "        # choose a base randomly\n",
    "        base = random.randint(33, 36)   # why this range?\n",
    "        m = Integer(message, base=base)   # 0 < m < sqrt(q/4)\n",
    "        \n",
    "        if (0 < m) and (m < b):\n",
    "            break\n",
    "    \n",
    "    # r will be random (ephemeral key)\n",
    "    r = random.randint(a, floor(c))   # 0 < r < sqrt(q/2)\n",
    "    \n",
    "    # compute ciphertext\n",
    "    e = mod((r*h + m), q)   # 0 < e < q\n",
    "    \n",
    "    # return the ciphertext and the base to convert back to string\n",
    "    return (e, base)\n",
    "    \n",
    "    "
   ]
  },
  {
   "cell_type": "markdown",
   "metadata": {},
   "source": [
    "### Decryption"
   ]
  },
  {
   "cell_type": "code",
   "execution_count": 80,
   "metadata": {},
   "outputs": [],
   "source": [
    "def congruential_decryption(private_key_tuple, public_key_tuple, message_tuple):\n",
    "    \"\"\"\n",
    "    Decrypts the message using the private key.\n",
    "    \"\"\"\n",
    "    \n",
    "    f, g = private_key_tuple\n",
    "    FieldQ, q, h = public_key_tuple\n",
    "    e, base = message_tuple\n",
    "    \n",
    "    # compute part 1 of decryption\n",
    "    # for this part it is mod q\n",
    "    a = mod((f*e), q)   # 0 < a < q\n",
    "    \n",
    "    # since the integers f, g, r, m are small due to restrictions,\n",
    "    # a = rg + fm without the need of the mod q\n",
    "    \n",
    "    \n",
    "    # compute part 2 of the decryption\n",
    "    # for this part it is mod g\n",
    "    # thus we need to modify a, f and g so that it is all mod g\n",
    "    g_in_g = Integer(g)\n",
    "    FieldG = Zmod(g_in_g)\n",
    "    \n",
    "    f_in_g = Integer(f)\n",
    "    f_in_g = FieldG(f_in_g)\n",
    "    f_inverse_g = f_in_g^(-1)\n",
    "    \n",
    "    a_in_g = Integer(a)\n",
    "    \n",
    "    b = mod((f_inverse_g*a_in_g), g_in_g)   # 0 < b < g\n",
    "    \n",
    "    # convert integer back to text\n",
    "    plaintext = Integer(b, base=base).str(base=base)\n",
    "    \n",
    "    # return plaintext\n",
    "    return plaintext\n",
    "    "
   ]
  },
  {
   "cell_type": "markdown",
   "metadata": {},
   "source": [
    "### Example\n",
    "\n",
    "We generate the public and private keys. Then, we encrypt it using the public keys. Finally, we decrypt it with the private keys. The original message is returned (in lowercase and without any spaces)."
   ]
  },
  {
   "cell_type": "code",
   "execution_count": 81,
   "metadata": {
    "scrolled": true
   },
   "outputs": [
    {
     "name": "stdout",
     "output_type": "stream",
     "text": [
      "quaternion\n"
     ]
    }
   ],
   "source": [
    "# key creation\n",
    "pr, pb = congruential_key_creation(128)\n",
    "\n",
    "# encryption\n",
    "cptx = congruential_encryption(pb, 'Quaternion')  # maximum of 12 characters\n",
    "\n",
    "# decryption\n",
    "pltx = congruential_decryption(pr, pb, cptx)\n",
    "\n",
    "# original message\n",
    "print(pltx)"
   ]
  },
  {
   "cell_type": "markdown",
   "metadata": {},
   "source": [
    "### Attack\n",
    "\n",
    "To attack the algorithm you can brute force it. However, it is very likely that if you find $F$ and $G$ such that $$Fh \\equiv G \\pmod q \\quad \\text{and} \\quad F = \\mathcal{O}(\\sqrt(q)) \\quad  \\text{and} \\quad G = \\mathcal{O}(\\sqrt(q)).$$ \n",
    "\n",
    "Which is\n",
    "$$Fh = G +qR.$$\n",
    "\n",
    "In other words, to get the vector $(F, G)$ we can solve the following equation:\n",
    "$$F(1, h) - R(0, q) = (F, G).$$\n",
    "\n",
    "So to solve it you want to find a short vector in the set\n",
    "$$L = \\{a_1v_1 + a_2v_2 \\,\\,|\\,\\, a_1, a_2 \\in \\mathbb{Z}\\},$$\n",
    "and the vector has lenght $\\mathcal{O}(\\sqrt(q))$.\n",
    "\n",
    "This is a two-dimensional lattice problem."
   ]
  },
  {
   "cell_type": "code",
   "execution_count": 82,
   "metadata": {},
   "outputs": [],
   "source": [
    "def congruential_attack(public_key_tuple, message_tuple):\n",
    "    \"\"\"\n",
    "    Attacks the congruential public key cryptosystem to try\n",
    "    and eavesdrop.\n",
    "    \"\"\"\n",
    "    \n",
    "    FieldQ, q, h = public_key_tuple\n",
    "    e, base = message_tuple\n",
    "    \n",
    "    \n",
    "    \n",
    "    return hacked_plaintext"
   ]
  },
  {
   "cell_type": "markdown",
   "metadata": {},
   "source": [
    "## 6.2 - Subset-sum problems and knapsack cryptosystems"
   ]
  },
  {
   "cell_type": "code",
   "execution_count": 83,
   "metadata": {},
   "outputs": [],
   "source": [
    "def subset_sum_superincreasing(list_M, S):\n",
    "    \"\"\"\n",
    "    Computes the solution vector y for the subset_sum problem.\n",
    "    \"\"\"\n",
    "    \n",
    "    n = len(list_M)\n",
    "    \n",
    "    y = zero_vector(ZZ, n)\n",
    "    \n",
    "    for i in reversed(range(0, n)):\n",
    "        if S >= list_M[i]:\n",
    "            y[i] = 1\n",
    "            S = S - list_M[i]\n",
    "    \n",
    "    return y"
   ]
  },
  {
   "cell_type": "markdown",
   "metadata": {},
   "source": [
    "### Example"
   ]
  },
  {
   "cell_type": "code",
   "execution_count": 84,
   "metadata": {},
   "outputs": [
    {
     "name": "stdout",
     "output_type": "stream",
     "text": [
      "(1, 0, 1, 0, 1)\n"
     ]
    }
   ],
   "source": [
    "M = [3, 11, 24, 50, 115]\n",
    "S = 142\n",
    "\n",
    "print(subset_sum_superincreasing(M, S))"
   ]
  },
  {
   "cell_type": "markdown",
   "metadata": {},
   "source": [
    "### Key creation"
   ]
  },
  {
   "cell_type": "code",
   "execution_count": 104,
   "metadata": {},
   "outputs": [],
   "source": [
    "def superincreasing_seq(length):\n",
    "    \"\"\"\n",
    "    Makes a superincreasing sequence.\n",
    "    \n",
    "    This function is a simple way of creating such a pseudorandom sequence\n",
    "    of superincreasing integers, for the sake of applying the algorithm.\n",
    "    \"\"\"\n",
    "    seq = zero_vector(length)\n",
    "    \n",
    "    seq[0] = random.randint(2**n, 7*(2**n))   # first value is a random integer between 0 and 10\n",
    "    \n",
    "    for i in range(1, length):\n",
    "        seq[i] = random.randint(2*seq[i-1] + 1, 7*seq[i-1])   # makes the next value superincreasing\n",
    "    \n",
    "    return seq\n",
    "\n",
    "def knapsack_key_creation(n, bits):\n",
    "    \"\"\"\n",
    "    Creates the private and public keys of the subset sum encryption.\n",
    "    \n",
    "    BITS must be large for the loop not to get stuck.\n",
    "    \"\"\"\n",
    "    r_super_seq = superincreasing_seq(n)\n",
    "    \n",
    "    while True:\n",
    "        B = random.getrandbits(bits)\n",
    "        if B > 2*r_super_seq[n-1]:\n",
    "            break\n",
    "    \n",
    "    while True:\n",
    "        A = random.getrandbits(bits)\n",
    "        try:\n",
    "            FieldB = Zmod(B)\n",
    "            A = FieldB(A)\n",
    "            A_inverse = A^(-1)\n",
    "            break\n",
    "        except ZeroDivisionError:\n",
    "            continue\n",
    "    \n",
    "    A = Integer(A)\n",
    "    \n",
    "    M = zero_vector(n)\n",
    "    \n",
    "    for i in range(n):\n",
    "        M[i] = mod(A*r_super_seq[i], B)   # 0 <= Mi < B\n",
    "    \n",
    "    return (r_super_seq, A, B), (M, n)"
   ]
  },
  {
   "cell_type": "code",
   "execution_count": 105,
   "metadata": {},
   "outputs": [
    {
     "name": "stdout",
     "output_type": "stream",
     "text": [
      "(13858, 66013, 393616, 1920077)\n"
     ]
    }
   ],
   "source": [
    "print(superincreasing_seq(4))"
   ]
  },
  {
   "cell_type": "markdown",
   "metadata": {},
   "source": [
    "### Encryption"
   ]
  },
  {
   "cell_type": "code",
   "execution_count": 106,
   "metadata": {},
   "outputs": [],
   "source": [
    "def knapsack_encryption(public_key_tuple, bin_plaintext):\n",
    "    \"\"\"\n",
    "    Encrypts a binary message.\n",
    "    \n",
    "    NOTE make sure the bin_plaintext doesn't have the 0b at the beggining.\n",
    "    \n",
    "    FORMATS for bin_plaintext allowed are binary string or list.\n",
    "    \"\"\"\n",
    "    M, n = public_key_tuple\n",
    "    \n",
    "    bin_plain_list = [int(bin_plaintext[i]) for i in range(n)]\n",
    "    \n",
    "    bin_plain_vec = vector(bin_plain_list)\n",
    "    \n",
    "    S = bin_plain_vec.dot_product(M)\n",
    "    \n",
    "    # return ciphertext\n",
    "    return S"
   ]
  },
  {
   "cell_type": "markdown",
   "metadata": {},
   "source": [
    "### Decryption"
   ]
  },
  {
   "cell_type": "code",
   "execution_count": 107,
   "metadata": {},
   "outputs": [],
   "source": [
    "def knapsack_decryption(private_key_tuple, S):\n",
    "    \"\"\"\n",
    "    Decrypts the binary message.\n",
    "    \"\"\"\n",
    "    \n",
    "    r_super_seq, A, B = private_key_tuple\n",
    "    \n",
    "    FieldB = Zmod(B)\n",
    "    \n",
    "    A = FieldB(A)\n",
    "    \n",
    "    A_inverse = A^(-1)\n",
    "    \n",
    "    S_prime = mod(A_inverse*S, B)\n",
    "    \n",
    "    bin_plaintext = subset_sum_superincreasing(r_super_seq, S_prime)\n",
    "    \n",
    "    # return binary string\n",
    "    return bin_plaintext"
   ]
  },
  {
   "cell_type": "markdown",
   "metadata": {},
   "source": [
    "### Example with randomly generated binary string"
   ]
  },
  {
   "cell_type": "code",
   "execution_count": 109,
   "metadata": {},
   "outputs": [
    {
     "name": "stdout",
     "output_type": "stream",
     "text": [
      "Secret binary message: (1, 1, 0, 1, 1, 1, 0, 1, 1, 1, 1, 0)\n",
      "Decrypted message: (1, 1, 0, 1, 1, 1, 0, 1, 1, 1, 1, 0)\n"
     ]
    }
   ],
   "source": [
    "# create public and private keys\n",
    "pr, pb = knapsack_key_creation(12, 128)\n",
    "\n",
    "# unpack public key to obtain dimensions of binary message\n",
    "M, n = pb\n",
    "\n",
    "# create random binary message (accepted string or list) - for the purpose of the example\n",
    "bin_mess = zero_vector(n)\n",
    "for i in range(n):\n",
    "    if random.random() <= 0.71:\n",
    "        bin_mess[i] = 1\n",
    "\n",
    "print(f\"Secret binary message: {bin_mess}\")\n",
    "        \n",
    "# encrypt message\n",
    "S = knapsack_encryption(pb, bin_mess)\n",
    "\n",
    "# decrypt message\n",
    "print(f\"Decrypted message: {knapsack_decryption(pr, S)}\")"
   ]
  },
  {
   "cell_type": "markdown",
   "metadata": {},
   "source": [
    "## 6.3 - A brief review of vector spaces"
   ]
  },
  {
   "cell_type": "code",
   "execution_count": 127,
   "metadata": {},
   "outputs": [
    {
     "name": "stdout",
     "output_type": "stream",
     "text": [
      "[(1, 0), (0, 1)]\n"
     ]
    }
   ],
   "source": [
    "def gram_schmidt_orthogonal(basis_list):\n",
    "    \"\"\"\n",
    "    Given a basis of vectors for vector space V (list),\n",
    "    the function returns an ORTHOGONAL ONLY basis for V (list).\n",
    "    \n",
    "    NOTE the vectors may not be normalized.\n",
    "    \"\"\"\n",
    "    orthogonal_list = []\n",
    "    n = len(basis_list)\n",
    "    \n",
    "    # leave the first basis vector (row 0) as the same\n",
    "    orthogonal_list.append(basis_list[0])\n",
    "    \n",
    "    # loop through the others until orthogonal\n",
    "    for i in range(1, n):\n",
    "        new_orth_vec = basis_list[i]\n",
    "\n",
    "        for j in range(i):\n",
    "            \n",
    "            mu_ij = basis_list[i].dot_product(orthogonal_list[j]) / (orthogonal_list[j].norm()**2)\n",
    "            \n",
    "            new_orth_vec = new_orth_vec - mu_ij*orthogonal_list[j]\n",
    "            \n",
    "            orthogonal_list.append(new_orth_vec)\n",
    "            \n",
    "            #mu_ij = zero_vector(n)\n",
    "            #mu_ij[j] = basis_mat.row(i).dot_product(orthogonal_basis.row(j)) / (orthogonal_basis.row(j).norm()**2)\n",
    "            \n",
    "            #orthogonal_basis.set_row(orthogonal_basis.row(i), (orthogonal_basis.row(i) - mu_ij.dot_product(orthogonal_basis.row(j))))\n",
    "    \n",
    "    return orthogonal_list\n",
    "\n",
    "print(gram_schmidt_orthogonal([vector([1,0]),vector([1,1])]))"
   ]
  },
  {
   "cell_type": "markdown",
   "metadata": {},
   "source": [
    "## 6.4 - Lattices: Basic definitions and properties"
   ]
  },
  {
   "cell_type": "markdown",
   "metadata": {},
   "source": [
    "## 6.5 - Short vectors in lattices"
   ]
  },
  {
   "cell_type": "markdown",
   "metadata": {},
   "source": [
    "## 6.6 - Babai's algorithm and using a \"good\" basis to solve apprCVP"
   ]
  },
  {
   "cell_type": "code",
   "execution_count": 20,
   "metadata": {},
   "outputs": [
    {
     "name": "stdout",
     "output_type": "stream",
     "text": [
      "<class 'sage.modules.vector_rational_dense.Vector_rational_dense'>\n"
     ]
    }
   ],
   "source": [
    "def babai_closest_vertex(basis_list, w):\n",
    "    \"\"\"\n",
    "    This algorithm solves the closest vector problem (CVP).\n",
    "    \n",
    "    NOTE this only works when we havea good basis for the lattice. That is, the basis\n",
    "    vectors are reasonable orthogonal to one another.\n",
    "    \"\"\"\n",
    "    basis_mat = matrix([vector for vector in basis_list])\n",
    "    \n",
    "    t_values = basis_mat.solve_left(w)\n",
    "    \n",
    "    print(type(t_values))\n",
    "    \n",
    "\n",
    "    \n",
    "babai_closest_vertex([vector([1,0]), vector([1, 2])], vector([0,1]))"
   ]
  },
  {
   "cell_type": "markdown",
   "metadata": {},
   "source": [
    "## 6.7 - Cryptosystems based on hard lattice problems"
   ]
  },
  {
   "cell_type": "markdown",
   "metadata": {},
   "source": [
    "## 6.8 - The GGH public key cryptosystem"
   ]
  },
  {
   "cell_type": "markdown",
   "metadata": {},
   "source": [
    "## 6.9 - Convolution polynomial rings"
   ]
  },
  {
   "cell_type": "markdown",
   "metadata": {},
   "source": [
    "## 6.10 - The NTRU public key cryptosystem"
   ]
  },
  {
   "cell_type": "markdown",
   "metadata": {},
   "source": [
    "## 6.11 - NTRU as a lattice cryptosystem"
   ]
  },
  {
   "cell_type": "markdown",
   "metadata": {},
   "source": [
    "## 6.12 - Lattice reduction algorithms"
   ]
  },
  {
   "cell_type": "markdown",
   "metadata": {},
   "source": [
    "## 6.13 - Applications of LLL to cryptanalysis"
   ]
  },
  {
   "cell_type": "markdown",
   "metadata": {},
   "source": [
    "## Constructing a basis for a q-lattice"
   ]
  },
  {
   "cell_type": "code",
   "execution_count": null,
   "metadata": {},
   "outputs": [],
   "source": [
    "# parameters\n",
    "m, n, q = 5, 3, 101\n",
    "\n",
    "# compute RREF\n",
    "A = random_matrix(GF(q), n, m)\n",
    "A.echelonize()\n",
    "\n",
    "# stack A on top of a matrix accounting for modular reductions\n",
    "N = A.change_ring(ZZ)\n",
    "S = matrix(ZZ, m-n, n).augment(q * identity_matrix(m-n))\n",
    "N.stack(S, subdivide= True)"
   ]
  },
  {
   "cell_type": "code",
   "execution_count": null,
   "metadata": {},
   "outputs": [],
   "source": [
    "# other lattice\n",
    "sage.crypto.gen_lattice(m=10, seed=42, type=\"modular\")"
   ]
  },
  {
   "cell_type": "markdown",
   "metadata": {},
   "source": [
    "## The LLL algorithm"
   ]
  },
  {
   "cell_type": "code",
   "execution_count": null,
   "metadata": {},
   "outputs": [],
   "source": [
    "sage.crypto.gen_lattice(m=10, seed=42, type=\"modular\")\n",
    "A.LLL(delta=0.99, eta=0.51)"
   ]
  },
  {
   "cell_type": "markdown",
   "metadata": {},
   "source": [
    "## The BKZ algorithm"
   ]
  },
  {
   "cell_type": "code",
   "execution_count": null,
   "metadata": {},
   "outputs": [],
   "source": [
    "A = sage.crypto.gen_lattice(m=100, seed=42, q=next_prime(2^20))\n",
    "B = A.BKZ(block_size=60, proof=False)\n",
    "B[0].norm().log(2).n()"
   ]
  },
  {
   "cell_type": "code",
   "execution_count": null,
   "metadata": {},
   "outputs": [],
   "source": []
  },
  {
   "cell_type": "markdown",
   "metadata": {},
   "source": [
    "## References\n",
    "\n",
    "Hoffstein, J., Pipher, J., Silverman, J. H., & Silverman, J. H. (2008). An introduction to mathematical cryptography (Vol. 1). New York: springer."
   ]
  }
 ],
 "metadata": {
  "kernelspec": {
   "display_name": "SageMath 9.6",
   "language": "sage",
   "name": "sagemath-9.6"
  },
  "language_info": {
   "codemirror_mode": {
    "name": "ipython",
    "version": 3
   },
   "file_extension": ".py",
   "mimetype": "text/x-python",
   "name": "python",
   "nbconvert_exporter": "python",
   "pygments_lexer": "ipython3",
   "version": "3.10.3"
  }
 },
 "nbformat": 4,
 "nbformat_minor": 4
}
